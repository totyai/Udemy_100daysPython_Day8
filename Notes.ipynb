{
 "cells": [
  {
   "cell_type": "markdown",
   "id": "b6391ea2",
   "metadata": {},
   "source": [
    "# Day 8\n",
    "- Functions with Inputs\n",
    "- Agruments and parameters"
   ]
  },
  {
   "cell_type": "markdown",
   "id": "38852d87",
   "metadata": {},
   "source": [
    "## Functions with inputs\n"
   ]
  },
  {
   "cell_type": "code",
   "execution_count": null,
   "id": "61700538",
   "metadata": {},
   "outputs": [],
   "source": [
    "def greet():\n",
    "    print(\"Hello\")\n",
    "    print(\"How are you?\")\n",
    "    print(\"Bye.\")\n",
    "greet()"
   ]
  },
  {
   "cell_type": "markdown",
   "id": "17aaaf72",
   "metadata": {},
   "source": [
    "To allow some kind of variation in the function's call, you can add a variable into the function call. THis is pass onto the function and can be used inside"
   ]
  },
  {
   "cell_type": "code",
   "execution_count": 2,
   "id": "79ab6965",
   "metadata": {},
   "outputs": [
    {
     "name": "stdout",
     "output_type": "stream",
     "text": [
      "Hello, Pali!\n",
      "How are you?\n",
      "Bye\n",
      "Hello, Bill!\n",
      "How are you?\n",
      "Bye\n"
     ]
    }
   ],
   "source": [
    "def greet2(name):\n",
    "    print(f\"Hello, {name}!\")\n",
    "    print(\"How are you?\")\n",
    "    print(\"Bye\")\n",
    "greet2(\"Pali\")\n",
    "greet2(\"Bill\")"
   ]
  },
  {
   "cell_type": "markdown",
   "id": "167ff0de",
   "metadata": {},
   "source": [
    "### Argument vs Parameter\n",
    "The *parameter* is the **name** of variable that is inside teh function itself. eg. name\n",
    "The *argument* is the **actual value** of the variable that is inside. eg. Pali"
   ]
  },
  {
   "cell_type": "markdown",
   "id": "6e8b2483",
   "metadata": {},
   "source": [
    "### Challange\n",
    "Life in Weeks\n",
    "I was reading this article by Tim Urban - [Your Life in Weeks](https://waitbutwhy.com/2014/05/life-weeks.html) and realised just how little time we actually have.\n",
    "\n",
    "Create a function called life_in_weeks() using maths and f-Strings that tells us how many weeks we have left, if we live until 90 years old.\n",
    "\n",
    "It will take your current age as the input and output a message with our time left in this format:\n",
    "\n",
    "You have x weeks left.\n",
    "\n",
    "Where x is replaced with the actual calculated number of weeks the input age has left until age 90.\n",
    "\n",
    "**Warning** The function must be called life_in_weeks for the tests to pass. Also the output must have the same punctuation and spelling as the example. Including the full stop!\n",
    "\n",
    "Example Input: 56\n",
    "\n",
    "Example Output: You have 1768 weeks left."
   ]
  },
  {
   "cell_type": "code",
   "execution_count": null,
   "id": "09d0fc94",
   "metadata": {},
   "outputs": [],
   "source": [
    "def life_in_weeks(age):\n",
    "    maximum = 90\n",
    "    dif = maximum - age\n",
    "    weeks = dif * 52\n",
    "    print(f\"You have {weeks} weeks left.\")\n",
    "    \n",
    "life_in_weeks(29)"
   ]
  },
  {
   "cell_type": "markdown",
   "id": "e0917316",
   "metadata": {},
   "source": [
    "## Positional vs Keyword Arguments\n",
    "Functions can have multiple inputs, they are separated with ,\n",
    "The same with teh fucntion call as well.\n",
    "The positioning is key here. So the first argument added in func call, it will be passed as the first agrument in the fucntion."
   ]
  },
  {
   "cell_type": "code",
   "execution_count": 4,
   "id": "d907319b",
   "metadata": {},
   "outputs": [
    {
     "name": "stdout",
     "output_type": "stream",
     "text": [
      "Hello, Pali\n",
      "How is the weather in Budapest?\n",
      "Hello, Budapest\n",
      "How is the weather in Pali?\n"
     ]
    }
   ],
   "source": [
    "def greet_with(name, location):\n",
    "    print(f\"Hello, {name}\")\n",
    "    print(f\"How is the weather in {location}?\")\n",
    "greet_with(\"Pali\", \"Budapest\")\n",
    "\n",
    "greet_with(\"Budapest\", \"Pali\")"
   ]
  },
  {
   "cell_type": "markdown",
   "id": "47945135",
   "metadata": {},
   "source": [
    "The Keyword argument is useful to change up the order, but still give a meaning. This can be done by adding the Parameter (name of the argument) in the call."
   ]
  },
  {
   "cell_type": "code",
   "execution_count": 5,
   "id": "87e53c54",
   "metadata": {},
   "outputs": [
    {
     "name": "stdout",
     "output_type": "stream",
     "text": [
      "Hello, Pali\n",
      "How is the weather in Budapest?\n"
     ]
    }
   ],
   "source": [
    "greet_with(location=\"Budapest\", name=\"Pali\")"
   ]
  },
  {
   "cell_type": "markdown",
   "id": "e2da8dbc",
   "metadata": {},
   "source": [
    "But both is correct, just make sure to use correctly"
   ]
  },
  {
   "cell_type": "markdown",
   "id": "2c5b9f6f",
   "metadata": {},
   "source": [
    "### Challange\n",
    "**Love Calculator**\n",
    "💪 This is a difficult challenge! 💪 \n",
    "\n",
    "You are going to write a function called calculate_love_score() that tests the compatibility between two names.  To work out the love score between two people: \n",
    "\n",
    "1. Take both people's names and check for the number of times the letters in the word TRUE occurs.   \n",
    "\n",
    "2. Then check for the number of times the letters in the word LOVE occurs.   \n",
    "\n",
    "3. Then combine these numbers to make a 2 digit number and print it out. \n",
    "\n",
    "e.g.\n",
    "\n",
    "name1 = \"Angela Yu\" name2 = \"Jack Bauer\"\n",
    "\n",
    "T occurs 0 times \n",
    "\n",
    "R occurs 1 time \n",
    "\n",
    "U occurs 2 times \n",
    "\n",
    "E occurs 2 times \n",
    "\n",
    "Total = 5 \n",
    "\n",
    "L occurs 1 time \n",
    "\n",
    "O occurs 0 times \n",
    "\n",
    "V occurs 0 times \n",
    "\n",
    "E occurs 2 times \n",
    "\n",
    "Total = 3 \n",
    "\n",
    "Love Score = 53\n",
    "\n",
    "Example Input : calculate_love_score(\"Kanye West\", \"Kim Kardashian\")\n",
    "\n",
    "Example Output: 42"
   ]
  },
  {
   "cell_type": "code",
   "execution_count": 6,
   "id": "7032c36d",
   "metadata": {},
   "outputs": [
    {
     "name": "stdout",
     "output_type": "stream",
     "text": [
      "53\n"
     ]
    }
   ],
   "source": [
    "def calculate_love_score(name1, name2):\n",
    "    # Testing True\n",
    "    test1 = \"true\"\n",
    "    names = name2+name1\n",
    "    tscore = 0\n",
    "    for i in range(len(test1)):\n",
    "        tscore += names.lower().count(test1[i])\n",
    "    \n",
    "    # Testing Love\n",
    "    test2 = \"love\"\n",
    "    lscore = 0\n",
    "    for i in range(len(test2)):\n",
    "        lscore += names.lower().count(test2[i])\n",
    "    \n",
    "    #Final score\n",
    "    print(f\"{tscore}{lscore}\")\n",
    "    \n",
    "\n",
    "calculate_love_score(\"Angela Yu\", \"Jack Bauer\")"
   ]
  }
 ],
 "metadata": {
  "kernelspec": {
   "display_name": "Python 3",
   "language": "python",
   "name": "python3"
  },
  "language_info": {
   "codemirror_mode": {
    "name": "ipython",
    "version": 3
   },
   "file_extension": ".py",
   "mimetype": "text/x-python",
   "name": "python",
   "nbconvert_exporter": "python",
   "pygments_lexer": "ipython3",
   "version": "3.12.1"
  }
 },
 "nbformat": 4,
 "nbformat_minor": 5
}
